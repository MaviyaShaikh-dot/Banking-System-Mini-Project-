{
 "cells": [
  {
   "cell_type": "markdown",
   "id": "0633a541-f284-4570-a0cd-20050de638ab",
   "metadata": {},
   "source": [
    "# Banking System Mini Project Documentation\n"
   ]
  },
  {
   "cell_type": "markdown",
   "id": "9ce82ed6-8aea-4e83-b7ca-5c0660a6b7c4",
   "metadata": {},
   "source": [
    "# Banking System Mini Project Documentation This document provides a step-by-step guide for students to create a Banking System using Object-Oriented Programming (OOP) in Python. This project includes functionalities for users to perform banking operations and for the bank (admin) to manage accounts and view financial statistics.Objective Create a Python-based banking system that: \n",
    "1. Allows users to: \n",
    "o Open a new account. \n",
    "o Deposit money. \n",
    "o Withdraw money. \n",
    "o Check account balance. \n",
    "o Transfer money to another account. \n",
    "o View transaction history in a formatted statement. \n",
    "2. Allows the bank (admin) to: \n",
    "o View total deposits in the bank. \n",
    "o Check the total number of accounts. \n",
    "Features and Functionality \n",
    "User Operations: \n",
    "1. Open an Account: Users can open a new account with a unique account number. \n",
    "2. Deposit Money: Users can add money to their account balance. \n",
    "3. Withdraw Money: Users can withdraw money, provided they have sufficient \n",
    "balance. \n",
    "4. Check Balance: Users can view their current account balance. \n",
    "5. Transfer Money: Users can transfer money to another existing account. \n",
    "6. Transaction Statement: Users can view a detailed statement of all their transactions.\n",
    "Admin Operations: \n",
    "1. View Total Deposits: Admins can see the total money deposited in the bank. \n",
    "2. Check Total Accounts: Admins can see the total number of accounts in the bank. \n",
    "Implementation Steps \n",
    "Step 1: Define the BankAccount Class \n",
    "The BankAccount class represents individual accounts and their operations. \n",
    "Attributes: \n",
    " account_number: Unique account number for the account. \n",
    " account_holder: Name of the account holder. \n",
    " balance: Current balance in the account. \n",
    " transactions: A list to store the transaction history. \n",
    "Methods: \n",
    " deposit(amount): Adds the specified amount to the account balance. \n",
    " withdraw(amount): Deducts the specified amount from the account balance if \n",
    "sufficient funds are available. \n",
    " check_balance(): Returns the current account balance. \n",
    " add_transaction(description): Adds a description of a transaction to the transaction \n",
    "history. \n",
    " print_statement(): Prints a detailed statement of all transactions. \n",
    "Step 2: Define the Bank Class \n",
    "The Bank class manages all accounts and provides admin functionalities. \n",
    "Attributes: \n",
    " accounts: A dictionary to store BankAccount objects, keyed by account numbers. \n",
    "Methods: \n",
    " open_account(account_holder): Creates a new account for the specified account \n",
    "holder. \n",
    " get_account(account_number): Retrieves an account object using its account number. \n",
    " transfer(sender_account_number, receiver_account_number, amount): Transfers \n",
    "money between two accounts. \n",
    " admin_check_total_deposit(): Returns the total balance of all accounts in the bank. \n",
    " admin_check_total_accounts(): Returns the total number of accounts in the bank. \n",
    "Step 3: Create a Menu-Driven Interface \n",
    "Provide an interactive menu to handle user and admin operations. \n",
    "Tips for Enhancement \n",
    "1. Implement user authentication with a username and password. \n",
    "2. Add account types (e.g., savings, current) with different features. \n",
    "3. Include interest calculations for savings accounts. \n",
    "4. Enhance the transaction history with timestamps. \n",
    "Submission: \n",
    "A well-structured python code on your Git hub account with all the \n",
    "functionality implemented."
   ]
  },
  {
   "cell_type": "markdown",
   "id": "13375b10-af26-4ccd-ab1c-47e78590b997",
   "metadata": {},
   "source": [
    "# EXPLAINATION OF THE CODE THAT I CODE IN THIS TASK IS GIVEN BELOW\n",
    "\n",
    "Offer that the sir explain that when starts a program first We have to  build a code of bankingSystem in with Oriented programing are use and we have to assemble different kind of parts means that i have to code admin side and user side for the use of object  Oriented programing ......!"
   ]
  },
  {
   "cell_type": "markdown",
   "id": "4110c9ba-a59b-4169-9c63-96b6387c9bef",
   "metadata": {},
   "source": [
    "# 1) With the help of object Oriented Programing We have Successfully build first stape of the Mini Project\n",
    "first we build what the bank Works means we create account,Deposite Cash,Withraw Cash,Check_Balance $\n",
    "Add_Transaction Balance and Print full and final Statement in the first stape \n",
    "\n"
   ]
  },
  {
   "cell_type": "code",
   "execution_count": 103,
   "id": "9af635bf-14e7-4d21-b330-9137ba8c8fab",
   "metadata": {},
   "outputs": [],
   "source": [
    "class BankAccount:\n",
    "    def __init__(self, account_number, account_holder):\n",
    "        self.account_number = account_number\n",
    "        self.account_holder = account_holder\n",
    "        self.balance = 0\n",
    "        self.transactions = []\n",
    "    def deposit(self, amount):\n",
    "        self.balance += amount\n",
    "        self.add_transaction(f\"Deposited {amount}\")\n",
    "\n",
    "    def withdraw(self, amount):\n",
    "        if amount <= self.balance:\n",
    "            self.balance -= amount\n",
    "            self.add_transaction(f\"Withdrew {amount}\")\n",
    "        else:\n",
    "            print(\"Not A valid Amount to Enter.\")\n",
    "    def check_balance(self):\n",
    "        return self.balance\n",
    "\n",
    "    def add_transaction(self, description):\n",
    "        self.transactions.append(description)\n",
    "    def print_statement(self):\n",
    "        print(f\"Transaction History for {self.account_holder}:\")\n",
    "        for transaction in self.transactions:\n",
    "            print(transaction)\n"
   ]
  },
  {
   "cell_type": "markdown",
   "id": "27e45cd8-8742-4a8c-8e0b-df313a7e5e92",
   "metadata": {},
   "source": [
    "# 2) The Second Stap Also builde with the help of Oriented programing\n",
    "now the second stape from the bank side is to open account from the user and when account is appear at bank to get account info and transfer payment like receive and send and those concept that receiver and sender i search from the google and implemented it and in the last of the program user  also check\n"
   ]
  },
  {
   "cell_type": "code",
   "execution_count": 106,
   "id": "105fb56d-2341-484b-804e-fa72e00fa642",
   "metadata": {},
   "outputs": [],
   "source": [
    "class Bank:\n",
    "    def __init__(self):\n",
    "        self.accounts = {}\n",
    "\n",
    "    def open_account(self, account_holder):\n",
    "        account_number = len(self.accounts) + 1\n",
    "        account = BankAccount(account_number, account_holder)\n",
    "        self.accounts[account_number] = account\n",
    "        print(f\"Account for {account_holder} created with account number {account_number}.\")\n",
    "\n",
    "    def get_account(self, account_number):\n",
    "        return self.accounts.get(account_number, None)\n",
    "\n",
    "    def transfer(self, sender_account_number, receiver_account_number, amount):\n",
    "        sender = self.get_account(sender_account_number)\n",
    "        receiver = self.get_account(receiver_account_number)\n",
    "\n",
    "        if sender and receiver:\n",
    "            if sender.check_balance() >= amount:\n",
    "                sender.withdraw(amount)\n",
    "                receiver.deposit(amount)\n",
    "                sender.add_transaction(f\"Transferred {amount} to account {receiver_account_number}\")\n",
    "                receiver.add_transaction(f\"Received {amount} from account {sender_account_number}\")\n",
    "            else:\n",
    "                print(\"Amount is not Valid\")\n",
    "        else:\n",
    "            print(\"Invalid account numbers.\")\n",
    "\n"
   ]
  },
  {
   "cell_type": "markdown",
   "id": "94adefa3-d89e-493f-98f1-8e0e9571697e",
   "metadata": {},
   "source": [
    "# 3) IN THIS WE ALSO STRUCTED THE CODE FROM OOPS PROGRAMING\n",
    "last of the project is to build a menu driver with hte help of code is to gave output to user that they have to open account or and other facilities that the bank gives and also have the functionality to exit from the bank services that every one knows and i build also to gave user to input and give relative output for this if else if or elif statement is use this is the last and final stap \n",
    "\n",
    "\n",
    "THANKS FOR ALL SMIT TEAM TO GIVE THIS AMAZING TASK"
   ]
  },
  {
   "cell_type": "code",
   "execution_count": 109,
   "id": "c0c04cef-7c7a-46a4-9ce0-e1c4915b191b",
   "metadata": {},
   "outputs": [
    {
     "name": "stdout",
     "output_type": "stream",
     "text": [
      "\n",
      "Bank System Menu:\n",
      "1. Open Account\n",
      "2. Deposit Money\n",
      "3. Withdraw Money\n",
      "4. Check Balance\n",
      "5. Transfer Money\n",
      "6. View Transaction History\n",
      "7. Exit\n"
     ]
    },
    {
     "name": "stdin",
     "output_type": "stream",
     "text": [
      "Enter your choice:  7\n"
     ]
    },
    {
     "name": "stdout",
     "output_type": "stream",
     "text": [
      "Exiting the system.\n"
     ]
    }
   ],
   "source": [
    "def main():\n",
    "    bank = Bank()\n",
    "    while True:\n",
    "        print(\"\\nBank System Menu:\")\n",
    "        print(\"1. Open Account\")\n",
    "        print(\"2. Deposit Money\")\n",
    "        print(\"3. Withdraw Money\")\n",
    "        print(\"4. Check Balance\")\n",
    "        print(\"5. Transfer Money\")\n",
    "        print(\"6. View Transaction History\")\n",
    "        print(\"7. Exit\")\n",
    "\n",
    "        choice = int(input(\"Enter your choice: \"))\n",
    "\n",
    "        if choice == 1:\n",
    "            holder = input(\"Enter account holder name: \")\n",
    "            bank.open_account(holder)\n",
    "\n",
    "        elif choice == 2:\n",
    "            account_number = int(input(\"Enter account number: \"))\n",
    "            amount = float(input(\"Enter deposit amount: \"))\n",
    "            account = bank.get_account(account_number)\n",
    "            if account:\n",
    "                account.deposit(amount)\n",
    "            else:\n",
    "                print(\"Account not found.\")\n",
    "\n",
    "        elif choice == 3:\n",
    "            account_number = int(input(\"Enter account number: \"))\n",
    "            amount = float(input(\"Enter withdrawal amount: \"))\n",
    "            account = bank.get_account(account_number)\n",
    "            if account:\n",
    "                account.withdraw(amount)\n",
    "            else:\n",
    "                print(\"Account not found.\")\n",
    "\n",
    "        elif choice == 4:\n",
    "            account_number = int(input(\"Enter account number: \"))\n",
    "            account = bank.get_account(account_number)\n",
    "            if account:\n",
    "                print(f\"Balance: {account.check_balance()}\")\n",
    "            else:\n",
    "                print(\"Account not found.\")\n",
    "\n",
    "        elif choice == 5:\n",
    "            sender_account = int(input(\"Enter sender account number: \"))\n",
    "            receiver_account = int(input(\"Enter receiver account number: \"))\n",
    "            amount = float(input(\"Enter transfer amount: \"))\n",
    "            bank.transfer(sender_account, receiver_account, amount)\n",
    "\n",
    "        elif choice == 6:\n",
    "            account_number = int(input(\"Enter account number: \"))\n",
    "            account = bank.get_account(account_number)\n",
    "            if account:\n",
    "                account.print_statement()\n",
    "            else:\n",
    "                print(\"Account not found.\")\n",
    "\n",
    "\n",
    "        elif choice == 7:\n",
    "            print(\"Exiting the system.\")\n",
    "            break\n",
    "        else:\n",
    "            print(\"Invalid choice.\")\n",
    "\n",
    "if __name__ == \"__main__\":\n",
    "    main()\n"
   ]
  },
  {
   "cell_type": "code",
   "execution_count": null,
   "id": "f6dda2fe-0047-46d0-8e41-83af14301390",
   "metadata": {},
   "outputs": [],
   "source": []
  }
 ],
 "metadata": {
  "kernelspec": {
   "display_name": "Python 3 (ipykernel)",
   "language": "python",
   "name": "python3"
  },
  "language_info": {
   "codemirror_mode": {
    "name": "ipython",
    "version": 3
   },
   "file_extension": ".py",
   "mimetype": "text/x-python",
   "name": "python",
   "nbconvert_exporter": "python",
   "pygments_lexer": "ipython3",
   "version": "3.12.7"
  }
 },
 "nbformat": 4,
 "nbformat_minor": 5
}
